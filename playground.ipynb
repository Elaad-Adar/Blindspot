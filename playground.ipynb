{
 "cells": [
  {
   "cell_type": "code",
   "execution_count": 1,
   "metadata": {
    "collapsed": true
   },
   "outputs": [],
   "source": [
    "from datetime import datetime\n",
    "import concurrent.futures\n",
    "from flask import Flask, request, jsonify\n",
    "import requests\n",
    "import configparser\n",
    "from github import Github"
   ]
  },
  {
   "cell_type": "code",
   "execution_count": 2,
   "outputs": [],
   "source": [
    "packages = [\n",
    "    {\"id\": 1, \"name\": \"table\", \"link\": \"github.com/gajus/table\"},\n",
    "    {\"id\": 2, \"name\": \"csv\", \"link\": \"github.com/adaltas/node-csv\"},\n",
    "    {\"id\": 3, \"name\": \"htmlparser2\", \"link\": \"github.com/fb55/htmlparser2\"},\n",
    "    {\"id\": 4, \"name\": \"buffer\", \"link\": \"github.com/feross/buffer\"},\n",
    "    {\"id\": 5, \"name\": \"json5\", \"link\": \"github.com/json5/json5\"},\n",
    "    {\"id\": 6, \"name\": \"table\", \"link\": \"github.com/gajus/table\"},\n",
    "    {\"id\": 7, \"name\": \"csv\", \"link\": \"github.com/adaltas/node-csv\"},\n",
    "    {\"id\": 8, \"name\": \"htmlparser2\", \"link\": \"github.com/fb55/htmlparser2\"},\n",
    "    {\"id\": 9, \"name\": \"buffer\", \"link\": \"github.com/feross/buffer\"},\n",
    "    {\"id\": 10, \"name\": \"json5\", \"link\": \"github.com/json5/json5\"},\n",
    "]"
   ],
   "metadata": {
    "collapsed": false
   }
  },
  {
   "cell_type": "code",
   "execution_count": 35,
   "outputs": [
    {
     "name": "stdout",
     "output_type": "stream",
     "text": [
      "2022-12-31T17:12:48Z\n",
      "The release is less than 30 days old.\n"
     ]
    }
   ],
   "source": [
    "from datetime import datetime, timedelta\n",
    "\n",
    "# Set the repository name and owner\n",
    "repo_name = \"json5\"\n",
    "owner = \"json5\"\n",
    "\n",
    "headers = {\n",
    "            \"Accept\": \"application/vnd.github+json\",\n",
    "        }\n",
    "# Make a GET request to the GitHub API to retrieve the latest release\n",
    "response = requests.get(f\"https://api.github.com/repos/{owner}/{repo_name}/releases/latest\", headers=headers)\n",
    "\n",
    "if response.ok:\n",
    "    # Get the JSON data from the response\n",
    "    data = response.json()\n",
    "\n",
    "    # Extract the release date from the JSON data\n",
    "    release_date = data[\"published_at\"]\n",
    "\n",
    "    print(release_date)\n",
    "    # Parse the release date string into a datetime object\n",
    "    release_datetime = datetime.strptime(release_date, \"%Y-%m-%dT%H:%M:%SZ\")\n",
    "\n",
    "    # Calculate the difference between the release date and the current date\n",
    "    now = datetime.now()\n",
    "    delta = now - release_datetime\n",
    "\n",
    "    # Check if the difference is less than 30 days\n",
    "    if delta < timedelta(days=30):\n",
    "        print(\"The release is less than 30 days old.\")\n",
    "    else:\n",
    "        print(\"The release is more than 30 days old.\")\n",
    "else:\n",
    "    print(f\"Error: API request failed with status code - {response.status_code}\")"
   ],
   "metadata": {
    "collapsed": false
   }
  },
  {
   "cell_type": "code",
   "execution_count": 21,
   "outputs": [
    {
     "name": "stdout",
     "output_type": "stream",
     "text": [
      "21\n"
     ]
    }
   ],
   "source": [
    "response = requests.get(f\"https://api.github.com/repos/{owner}/{repo_name}/contributors\")\n",
    "\n",
    "if response.ok:\n",
    "    # Get the JSON data from the response\n",
    "    data = response.json()\n",
    "    num_of_contributors = len(data)\n",
    "    print(num_of_contributors)\n",
    "else:\n",
    "    print(f\"Error: API request failed with status code - {response.status_code}\")\n"
   ],
   "metadata": {
    "collapsed": false
   }
  },
  {
   "cell_type": "code",
   "execution_count": 27,
   "outputs": [
    {
     "name": "stdout",
     "output_type": "stream",
     "text": [
      "2023-01-04T01:27:11Z\n"
     ]
    }
   ],
   "source": [
    "response = requests.get(f\"https://api.github.com/repos/{owner}/{repo_name}/commits?sort=committer-date&direction=desc\")\n",
    "\n",
    "if response.ok:\n",
    "    # Get the JSON data from the response\n",
    "    data = response.json()\n",
    "    print(data[0]['commit']['author']['date'])\n",
    "else:\n",
    "    print(f\"Error: API request failed with status code - {response.status_code}\")\n"
   ],
   "metadata": {
    "collapsed": false
   }
  },
  {
   "cell_type": "code",
   "execution_count": 30,
   "outputs": [
    {
     "ename": "AttributeError",
     "evalue": "'NoneType' object has no attribute 'group'",
     "output_type": "error",
     "traceback": [
      "\u001B[1;31m---------------------------------------------------------------------------\u001B[0m",
      "\u001B[1;31mAttributeError\u001B[0m                            Traceback (most recent call last)",
      "\u001B[1;32m~\\AppData\\Local\\Temp\\ipykernel_40916\\274819944.py\u001B[0m in \u001B[0;36m<module>\u001B[1;34m\u001B[0m\n\u001B[0;32m      7\u001B[0m     \u001B[1;32mreturn\u001B[0m \u001B[0mowner\u001B[0m\u001B[1;33m,\u001B[0m \u001B[0mrepo\u001B[0m\u001B[1;33m\u001B[0m\u001B[1;33m\u001B[0m\u001B[0m\n\u001B[0;32m      8\u001B[0m \u001B[1;33m\u001B[0m\u001B[0m\n\u001B[1;32m----> 9\u001B[1;33m \u001B[0mo\u001B[0m\u001B[1;33m,\u001B[0m \u001B[0mr\u001B[0m \u001B[1;33m=\u001B[0m \u001B[0mget_owner_repo\u001B[0m\u001B[1;33m(\u001B[0m\u001B[1;34mf\"github.com/gajus/table\"\u001B[0m\u001B[1;33m)\u001B[0m\u001B[1;33m\u001B[0m\u001B[1;33m\u001B[0m\u001B[0m\n\u001B[0m\u001B[0;32m     10\u001B[0m \u001B[0mprint\u001B[0m\u001B[1;33m(\u001B[0m\u001B[1;34m\"The owner is:\"\u001B[0m\u001B[1;33m,\u001B[0m \u001B[0mo\u001B[0m\u001B[1;33m)\u001B[0m\u001B[1;33m\u001B[0m\u001B[1;33m\u001B[0m\u001B[0m\n\u001B[0;32m     11\u001B[0m \u001B[0mprint\u001B[0m\u001B[1;33m(\u001B[0m\u001B[1;34m\"The repository is:\"\u001B[0m\u001B[1;33m,\u001B[0m \u001B[0mr\u001B[0m\u001B[1;33m)\u001B[0m\u001B[1;33m\u001B[0m\u001B[1;33m\u001B[0m\u001B[0m\n",
      "\u001B[1;32m~\\AppData\\Local\\Temp\\ipykernel_40916\\274819944.py\u001B[0m in \u001B[0;36mget_owner_repo\u001B[1;34m(repo_url)\u001B[0m\n\u001B[0;32m      3\u001B[0m \u001B[1;32mdef\u001B[0m \u001B[0mget_owner_repo\u001B[0m\u001B[1;33m(\u001B[0m\u001B[0mrepo_url\u001B[0m\u001B[1;33m)\u001B[0m\u001B[1;33m:\u001B[0m\u001B[1;33m\u001B[0m\u001B[1;33m\u001B[0m\u001B[0m\n\u001B[0;32m      4\u001B[0m     \u001B[0mmatch\u001B[0m \u001B[1;33m=\u001B[0m \u001B[0mre\u001B[0m\u001B[1;33m.\u001B[0m\u001B[0msearch\u001B[0m\u001B[1;33m(\u001B[0m\u001B[1;34mr'https://github.com/(.*)/(.*)'\u001B[0m\u001B[1;33m,\u001B[0m \u001B[0mrepo_url\u001B[0m\u001B[1;33m)\u001B[0m\u001B[1;33m\u001B[0m\u001B[1;33m\u001B[0m\u001B[0m\n\u001B[1;32m----> 5\u001B[1;33m     \u001B[0mowner\u001B[0m \u001B[1;33m=\u001B[0m \u001B[0mmatch\u001B[0m\u001B[1;33m.\u001B[0m\u001B[0mgroup\u001B[0m\u001B[1;33m(\u001B[0m\u001B[1;36m1\u001B[0m\u001B[1;33m)\u001B[0m\u001B[1;33m\u001B[0m\u001B[1;33m\u001B[0m\u001B[0m\n\u001B[0m\u001B[0;32m      6\u001B[0m     \u001B[0mrepo\u001B[0m \u001B[1;33m=\u001B[0m \u001B[0mmatch\u001B[0m\u001B[1;33m.\u001B[0m\u001B[0mgroup\u001B[0m\u001B[1;33m(\u001B[0m\u001B[1;36m2\u001B[0m\u001B[1;33m)\u001B[0m\u001B[1;33m\u001B[0m\u001B[1;33m\u001B[0m\u001B[0m\n\u001B[0;32m      7\u001B[0m     \u001B[1;32mreturn\u001B[0m \u001B[0mowner\u001B[0m\u001B[1;33m,\u001B[0m \u001B[0mrepo\u001B[0m\u001B[1;33m\u001B[0m\u001B[1;33m\u001B[0m\u001B[0m\n",
      "\u001B[1;31mAttributeError\u001B[0m: 'NoneType' object has no attribute 'group'"
     ]
    }
   ],
   "source": [
    "import re\n",
    "\n",
    "def get_owner_repo(repo_url):\n",
    "    match = re.search(r'https://github.com/(.*)/(.*)', repo_url)\n",
    "    owner = match.group(1)\n",
    "    repo = match.group(2)\n",
    "    return owner, repo\n",
    "\n",
    "o, r = get_owner_repo(f\"github.com/gajus/table\")\n",
    "print(\"The owner is:\", o)\n",
    "print(\"The repository is:\", r)"
   ],
   "metadata": {
    "collapsed": false
   }
  },
  {
   "cell_type": "code",
   "execution_count": 31,
   "outputs": [],
   "source": [
    "match = re.search(r'https://github.com/(.*)/(.*)', \"https://\" + \"github.com/gajus/table\")"
   ],
   "metadata": {
    "collapsed": false
   }
  },
  {
   "cell_type": "code",
   "execution_count": 34,
   "outputs": [
    {
     "name": "stdout",
     "output_type": "stream",
     "text": [
      "https://github.com/gajus/table\n"
     ]
    }
   ],
   "source": [
    "print(match.group())"
   ],
   "metadata": {
    "collapsed": false
   }
  },
  {
   "cell_type": "code",
   "execution_count": null,
   "outputs": [],
   "source": [],
   "metadata": {
    "collapsed": false
   }
  }
 ],
 "metadata": {
  "kernelspec": {
   "display_name": "Python 3",
   "language": "python",
   "name": "python3"
  },
  "language_info": {
   "codemirror_mode": {
    "name": "ipython",
    "version": 2
   },
   "file_extension": ".py",
   "mimetype": "text/x-python",
   "name": "python",
   "nbconvert_exporter": "python",
   "pygments_lexer": "ipython2",
   "version": "2.7.6"
  }
 },
 "nbformat": 4,
 "nbformat_minor": 0
}
